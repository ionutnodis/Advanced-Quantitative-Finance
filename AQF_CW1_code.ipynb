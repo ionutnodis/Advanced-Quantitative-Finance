{
 "cells": [
  {
   "cell_type": "markdown",
   "metadata": {},
   "source": [
    "# MSIN0107, Advanced Quantitative Finance\n",
    "## Coursework I\n",
    "### Students: \n",
    "- Ionut Nodis \n",
    "- Adria Ramoneda\n",
    "- Rayan Sidani \n",
    "- Oleg Yushkevich\n"
   ]
  },
  {
   "cell_type": "markdown",
   "metadata": {},
   "source": []
  },
  {
   "cell_type": "markdown",
   "metadata": {},
   "source": [
    "#### When handing in, please explain which formula(s) and inputs you have used when solving each question. You are welcome to post code in an Appendix, but it should be possible to understand what you have done based on your written answers alone."
   ]
  },
  {
   "cell_type": "markdown",
   "metadata": {},
   "source": [
    "# Question 1\n",
    "\n",
    "Consider a 1-year put option with strike price 100 on a non-dividend paying tock with the following parameters:\n",
    "- Stock price: 100 GBP \n",
    "- $\\sigma$: 20% per annum \n",
    "- Risk free rate: 1.5% cont. comp. per annum\n",
    "\n",
    "Assume that the standard Black-Scholes assumptions apply, i.e. the underlying stock price follows a Geometric Brownian Motion and the interest\n",
    "rate is constant. Assume the year has 252 business days\n"
   ]
  },
  {
   "cell_type": "markdown",
   "metadata": {},
   "source": [
    "#### a) Standard put. Compute the price of a standard put option using Monte Carlo simulation with N = 10, 000 draws and compute a 95% condence interval for the option price."
   ]
  },
  {
   "cell_type": "code",
   "execution_count": 11,
   "metadata": {},
   "outputs": [],
   "source": [
    "#Import libraries\n",
    "\n",
    "import numpy as np \n",
    "import matplotlib.pyplot as plt \n",
    "from scipy.stats import norm"
   ]
  },
  {
   "cell_type": "code",
   "execution_count": 12,
   "metadata": {},
   "outputs": [
    {
     "name": "stdout",
     "output_type": "stream",
     "text": [
      "The MC price using 10000 simulations is 7.073851998197918.\n",
      "A 95% confidence band for the MC price is (6.881734287293494; 7.265969709102343).\n",
      "The width of the confidence band is 0.3842354218088495.\n",
      "The Black-Scholes price is 7.184019975124272.\n",
      "\n"
     ]
    }
   ],
   "source": [
    "#random normal distribution \n",
    "\n",
    "np.random.seed(1) \n",
    "\n",
    "# Parameters\n",
    "S0 = 100\n",
    "r = 0.015\n",
    "T = 1\n",
    "sigma = 0.20\n",
    "K = 100\n",
    "N = 10000\n",
    "\n",
    "#Put option using Black Scholes Model \n",
    "\n",
    "def black_scholes_price(S0, K, T, r, sigma):\n",
    "    d1 = (np.log(S0/K) + (r + 0.5*sigma**2)*T) / (sigma*np.sqrt(T))\n",
    "    d2 = d1 - sigma*np.sqrt(T)\n",
    "    put = K*np.exp(-r*T)*norm.cdf(-d2) - S0*norm.cdf(-d1)\n",
    "    return put\n",
    "\n",
    "\n",
    "P_bs = black_scholes_price(S0, K, T, r, sigma)\n",
    "\n",
    "#Put option price using MC:\n",
    "\n",
    "# Mean and variance of LogS_T\n",
    "logS_mean = np.log(S0) + (r - 0.5*sigma**2) * T\n",
    "logS_std = sigma * np.sqrt(T)\n",
    "\n",
    "# Simulate Nx1 normal RVs\n",
    "logS = np.random.normal(logS_mean, logS_std, N) \n",
    "\n",
    "# Payoff of put for each simulation\n",
    "V = np.exp(-r*T) * np.maximum(K - np.exp(logS), 0)\n",
    "\n",
    "# Value of put\n",
    "P_mc = np.mean(V) #we take the average of all sampled paths and compute the present price of the option\n",
    "\n",
    "# Display results\n",
    "print(f\"The MC price using {N} simulations is {P_mc}.\")\n",
    "sigv = np.std(V)\n",
    "CI = [np.mean(V) - 1.96*sigv/np.sqrt(N), np.mean(V) + 1.96*sigv/np.sqrt(N)]\n",
    "print(f\"A 95% confidence band for the MC price is ({CI[0]}; {CI[1]}).\")\n",
    "print(f\"The width of the confidence band is {CI[1] - CI[0]}.\")\n",
    "print(f\"The Black-Scholes price is {P_bs}.\")\n",
    "print()\n"
   ]
  },
  {
   "cell_type": "markdown",
   "metadata": {},
   "source": [
    "#### b) Compute the return of a standard put option using Monte Carlo simulation with N= 10,000 draws using Antithetic Variables and compute a 95% confidence interval for the option price. Is the confidence interval wider or narrower than that in the previous question? Is the result closer to the theoretical B-S result compared to the previous case?"
   ]
  },
  {
   "cell_type": "code",
   "execution_count": 13,
   "metadata": {},
   "outputs": [
    {
     "name": "stdout",
     "output_type": "stream",
     "text": [
      "The MC price using antithetic variables is 7.207943466280324\n",
      "A 95% confidence band for the MC price using antithetic variables is [7.114235553529572, 7.3016513790310755]\n",
      "The width of the confidence band is 0.18741582550150326\n",
      "The Black-Scholes price is 7.184019975124272.\n",
      "\n",
      "The confidence interval using antithetic variables is narrower than that in the previous question.\n"
     ]
    }
   ],
   "source": [
    "#Compute the option price using Antithetic Variables \n",
    "\n",
    "X = np.random.normal(0, logS_std, N)\n",
    "\n",
    "logS1 = logS_mean + X\n",
    "logS2 = logS_mean - X\n",
    "\n",
    "V_av = 0.5 * (np.maximum(K - np.exp(logS1), 0) + np.maximum(K - np.exp(logS2), 0))\n",
    "P_av = np.exp(-r*T) * np.mean(V_av)\n",
    "\n",
    "sigv_av = np.std(V_av)\n",
    "\n",
    "CI_av_u = np.exp(-r*T) * (np.mean(V_av) + 1.96*sigv_av/np.sqrt(N))\n",
    "CI_av_l = np.exp(-r*T) * (np.mean(V_av) - 1.96*sigv_av/np.sqrt(N))\n",
    "\n",
    "print('The MC price using antithetic variables is', P_av)\n",
    "print('A 95% confidence band for the MC price using antithetic variables is', [CI_av_l, CI_av_u])\n",
    "print('The width of the confidence band is', CI_av_u - CI_av_l)\n",
    "print(f\"The Black-Scholes price is {P_bs}.\")\n",
    "print()\n",
    "\n",
    "# Previous question results\n",
    "CI_standard_u = CI[1]\n",
    "CI_standard_l = CI[0]\n",
    "\n",
    "# Compare confidence intervals\n",
    "width_standard = CI_standard_u - CI_standard_l\n",
    "width_av = CI_av_u - CI_av_l\n",
    "\n",
    "if width_av < width_standard:\n",
    "    print(\"The confidence interval using antithetic variables is narrower than that in the previous question.\")\n",
    "else:\n",
    "    print(\"The confidence interval using antithetic variables is wider than that in the previous question.\")"
   ]
  },
  {
   "cell_type": "markdown",
   "metadata": {},
   "source": [
    "#### c) Option with knock-in barrier. A knock-in option is activated if the underlying asset reaches a predetermined barrier during its life. Assume that the put has the \"barrier\" of $80: If the stock price decreases below $80, the option is activated. Compute the price of the put with the barrier using Monte Carlo simulation with N = 10, 000 draws. Is it different from the price of a standard put (why)? Computea 95% condence interval for the option return."
   ]
  },
  {
   "cell_type": "markdown",
   "metadata": {},
   "source": []
  },
  {
   "cell_type": "code",
   "execution_count": 14,
   "metadata": {},
   "outputs": [
    {
     "name": "stdout",
     "output_type": "stream",
     "text": [
      "The MC price of the knock-in put option using 10000 simulations is 5.113095418950554.\n",
      "A 95% confidence band for the MC price is [4.91798769167256, 5.308203146228547].\n",
      "The width of the confidence band is 0.39021545455598705.\n",
      "The Black-Scholes price is 7.184019975124272 for the standard put option.\n",
      "\n",
      "The price of the knock-in put option is lower than the price of the standard European put option.\n"
     ]
    }
   ],
   "source": [
    "# Parameters\n",
    "S0 = 100\n",
    "r = 0.015\n",
    "T = 1\n",
    "sigma = 0.20\n",
    "K = 100\n",
    "N = 10000\n",
    "barrier = 80\n",
    "\n",
    "# Mean and variance of LogS_T\n",
    "logS_mean = np.log(S0) + (r - 0.5 * sigma**2) * T\n",
    "logS_std = sigma * np.sqrt(T)\n",
    "\n",
    "# Simulate Nx1 normal RVs\n",
    "logS = np.random.normal(logS_mean, logS_std, N)\n",
    "\n",
    "# Simulate stock paths\n",
    "dt = T / 252  # daily steps\n",
    "S_paths = np.zeros((N, 252 + 1))\n",
    "S_paths[:, 0] = S0\n",
    "for t in range(1, 252 + 1):\n",
    "    Z = np.random.normal(0, 1, N)\n",
    "    S_paths[:, t] = S_paths[:, t - 1] * np.exp((r - 0.5 * sigma**2) * dt + sigma * np.sqrt(dt) * Z)\n",
    "\n",
    "# Check if the barrier is hit\n",
    "knock_in = np.min(S_paths, axis=1) <= barrier\n",
    "\n",
    "# Payoff of put for each simulation\n",
    "V = np.exp(-r * T) * np.maximum(K - S_paths[:, -1], 0) * knock_in\n",
    "\n",
    "# Value of put\n",
    "P_knock_in = np.mean(V)\n",
    "sigv_knock_in = np.std(V)\n",
    "CI_knock_in_u = np.mean(V) + 1.96 * sigv_knock_in / np.sqrt(N)\n",
    "CI_knock_in_l = np.mean(V) - 1.96 * sigv_knock_in / np.sqrt(N)\n",
    "\n",
    "\n",
    "#Compute the price of a standard put option using Black Scholes Model\n",
    "def black_scholes_price(S0, K, T, r, sigma):\n",
    "    d1 = (np.log(S0/K) + (r + 0.5*sigma**2)*T) / (sigma*np.sqrt(T))\n",
    "    d2 = d1 - sigma*np.sqrt(T)\n",
    "    put = K*np.exp(-r*T)*norm.cdf(-d2) - S0*norm.cdf(-d1)\n",
    "    return put\n",
    "\n",
    "# Compute the price of the put option\n",
    "P_bs = black_scholes_price(S0, K, T, r, sigma)\n",
    "\n",
    "\n",
    "# Display results\n",
    "print(f\"The MC price of the knock-in put option using {N} simulations is {P_knock_in}.\")\n",
    "print(f\"A 95% confidence band for the MC price is [{CI_knock_in_l}, {CI_knock_in_u}].\")\n",
    "print(f\"The width of the confidence band is {CI_knock_in_u - CI_knock_in_l}.\")\n",
    "print(f\"The Black-Scholes price is {P_bs} for the standard put option.\")\n",
    "print()\n",
    "\n",
    "# Compare the prices\n",
    "if P_knock_in > P_bs:\n",
    "    print(\"The price of the knock-in put option is higher than the price of the standard European put option.\")\n",
    "else:\n",
    "    print(\"The price of the knock-in put option is lower than the price of the standard European put option.\")"
   ]
  },
  {
   "cell_type": "markdown",
   "metadata": {},
   "source": [
    "#### d) Compute the value of the option with knock-out barrier above using Monte Carlo simulation with N = 10, 000 draws and using the standard put option as a control variate. Also, compute a 95% confidence interval for the option price. Is the confidence interval wider or narrower than that in the previous question?"
   ]
  },
  {
   "cell_type": "markdown",
   "metadata": {},
   "source": []
  },
  {
   "cell_type": "code",
   "execution_count": 15,
   "metadata": {},
   "outputs": [
    {
     "name": "stdout",
     "output_type": "stream",
     "text": [
      "The MC price of the knock-out put option using 10000 simulations and control variate is 2.1007489849354735.\n",
      "A 95% confidence band for the MC price is [2.0180537469682283, 2.1834442229027187].\n",
      "The width of the confidence band is 0.1653904759344904.\n",
      "The confidence interval is narrower than that in the previous question.\n"
     ]
    }
   ],
   "source": [
    "# Parameters\n",
    "S0 = 100\n",
    "r = 0.015\n",
    "T = 1\n",
    "sigma = 0.20\n",
    "K = 100\n",
    "N = 10000\n",
    "barrier = 80\n",
    "\n",
    "# Mean and variance of LogS_T\n",
    "logS_mean = np.log(S0) + (r - 0.5 * sigma**2) * T\n",
    "logS_std = sigma * np.sqrt(T)\n",
    "\n",
    "# Simulate Nx1 normal RVs\n",
    "logS = np.random.normal(logS_mean, logS_std, N)\n",
    "\n",
    "# Simulate stock paths\n",
    "dt = T / 252  # daily steps\n",
    "S_paths = np.zeros((N, 252 + 1))\n",
    "S_paths[:, 0] = S0\n",
    "for t in range(1, 252 + 1):\n",
    "    Z = np.random.normal(0, 1, N)\n",
    "    S_paths[:, t] = S_paths[:, t - 1] * np.exp((r - 0.5 * sigma**2) * dt + sigma * np.sqrt(dt) * Z)\n",
    "\n",
    "# Check if the barrier is hit\n",
    "knock_out = np.min(S_paths, axis=1) > barrier\n",
    "\n",
    "# Payoff of knock-out put for each simulation\n",
    "V_knock_out = np.exp(-r * T) * np.maximum(K - S_paths[:, -1], 0) * knock_out\n",
    "\n",
    "# Payoff of standard put for each simulation\n",
    "V_standard = np.exp(-r * T) * np.maximum(K - S_paths[:, -1], 0)\n",
    "\n",
    "# Control variate method\n",
    "P_standard = np.mean(V_standard)\n",
    "covariance = np.cov(V_knock_out, V_standard)[0, 1]\n",
    "variance_standard = np.var(V_standard)\n",
    "c = -covariance / variance_standard\n",
    "\n",
    "# Adjusted payoff\n",
    "V_adjusted = V_knock_out + c * (V_standard - P_standard)\n",
    "\n",
    "# Value of knock-out put using control variate\n",
    "P_knock_out_cv = np.mean(V_adjusted)\n",
    "sigv_knock_out_cv = np.std(V_adjusted)\n",
    "CI_knock_out_cv_u = P_knock_out_cv + 1.96 * sigv_knock_out_cv / np.sqrt(N)\n",
    "CI_knock_out_cv_l = P_knock_out_cv - 1.96 * sigv_knock_out_cv / np.sqrt(N)\n",
    "\n",
    "# Display results\n",
    "print(f\"The MC price of the knock-out put option using {N} simulations and control variate is {P_knock_out_cv}.\")\n",
    "print(f\"A 95% confidence band for the MC price is [{CI_knock_out_cv_l}, {CI_knock_out_cv_u}].\")\n",
    "print(f\"The width of the confidence band is {CI_knock_out_cv_u - CI_knock_out_cv_l}.\")\n",
    "\n",
    "# Compare confidence intervals\n",
    "width_knock_out = CI_knock_out_cv_u - CI_knock_out_cv_l\n",
    "width_knock_in = CI_knock_in_u - CI_knock_in_l \n",
    "\n",
    "if width_knock_out < width_knock_in:\n",
    "    print(\"The confidence interval is narrower than that in the previous question.\")\n",
    "else:\n",
    "    print(\"The confidence interval is wider than that in the previous question.\")"
   ]
  },
  {
   "cell_type": "markdown",
   "metadata": {},
   "source": [
    "# Question 2\n",
    "\n",
    "Assume that the final payoff of the option is $max(K-S, 0)$ where $K$ is the maximal stock price during the life of the option ($K = max\\{S_i\\}$), where $S_i$ is the stock price on day $i$. The option has no barrier. This is a \"Lookback Put\":\n",
    "The strike price is the highest price of the underlying asset over the option's life, allowing the holder to sell at the highest price (the option is path-dependent). \n"
   ]
  },
  {
   "cell_type": "markdown",
   "metadata": {},
   "source": [
    "#### a) Compute the price of the Lookback put option using Monte Carlo simulation with N = 10, 000 draws. Also, compute a 95% confidence interval for the option price. Is the price higher or lower than the value of the standard put option above with the given strike price K = 100? Why?"
   ]
  },
  {
   "cell_type": "code",
   "execution_count": 16,
   "metadata": {},
   "outputs": [
    {
     "name": "stdout",
     "output_type": "stream",
     "text": [
      "The MC price of the Lookback put option using 10000 simulations is 15.447870271083486.\n",
      "A 95% confidence band for the MC price is [15.239145883936576, 15.656594658230397].\n",
      "The width of the confidence band is 0.41744877429382043.\n",
      "The price of the Lookback put option is higher than the value of the standard put option.\n"
     ]
    }
   ],
   "source": [
    "# Parameters\n",
    "S0 = 100\n",
    "r = 0.015\n",
    "T = 1\n",
    "sigma = 0.20\n",
    "N = 10000\n",
    "\n",
    "# Simulate stock paths\n",
    "dt = T / 252  # daily steps\n",
    "S_paths = np.zeros((N, 252 + 1))\n",
    "S_paths[:, 0] = S0\n",
    "for t in range(1, 252 + 1):\n",
    "    Z = np.random.normal(0, 1, N)\n",
    "    S_paths[:, t] = S_paths[:, t - 1] * np.exp((r - 0.5 * sigma**2) * dt + sigma * np.sqrt(dt) * Z)\n",
    "\n",
    "# Determine the maximum stock price during the life of the option\n",
    "K_max = np.max(S_paths, axis=1)\n",
    "\n",
    "# Payoff of Lookback put for each simulation\n",
    "V_lookback = np.exp(-r * T) * np.maximum(K_max - S_paths[:, -1], 0)\n",
    "\n",
    "# Value of Lookback put\n",
    "P_lookback = np.mean(V_lookback)\n",
    "sigv_lookback = np.std(V_lookback)\n",
    "CI_lookback_u = P_lookback + 1.96 * sigv_lookback / np.sqrt(N)\n",
    "CI_lookback_l = P_lookback - 1.96 * sigv_lookback / np.sqrt(N)\n",
    "\n",
    "# Display results\n",
    "print(f\"The MC price of the Lookback put option using {N} simulations is {P_lookback}.\")\n",
    "print(f\"A 95% confidence band for the MC price is [{CI_lookback_l}, {CI_lookback_u}].\")\n",
    "print(f\"The width of the confidence band is {CI_lookback_u - CI_lookback_l}.\")\n",
    "\n",
    "# Compare with the standard put option price\n",
    "P_standard = np.mean(np.exp(-r * T) * np.maximum(100 - S_paths[:, -1], 0))  # Assuming K = 100 for standard put\n",
    "if P_lookback > P_standard:\n",
    "    print(\"The price of the Lookback put option is higher than the value of the standard put option.\")\n",
    "else:\n",
    "    print(\"The price of the Lookback put option is lower than the value of the standard put option.\")\n",
    "    "
   ]
  },
  {
   "cell_type": "markdown",
   "metadata": {},
   "source": [
    "#### b) You want the price of the Lookback option to be suciently precise. Specifically, you want the width of the 95% confidence band 10 to be £0.01, i.e. if the confidence band is [c1; c2] then c2−c1 = 0.01. How many simulations N do you need to achieve this when doing standard Monte Carlo simulation? How many simulations N do you need to achieve this when doing Monte Carlo simulation using Antithetic Variables"
   ]
  },
  {
   "cell_type": "code",
   "execution_count": 17,
   "metadata": {},
   "outputs": [
    {
     "name": "stdout",
     "output_type": "stream",
     "text": [
      "Estimated Lookback put price with standard Monte Carlo: 15.213730998199416\n",
      "Estimated standard deviation for Lookback put: 10.65400146587758\n",
      "Number of simulations needed for standard Monte Carlo: 17442055\n",
      "Estimated Lookback put price with Antithetic Variables: 15.199744672495934\n",
      "Estimated standard deviation for Lookback put using Antithetic Variables: 4.215860290278018\n",
      "Number of simulations needed for Monte Carlo with Antithetic Variables: 2731144\n"
     ]
    }
   ],
   "source": [
    "# Parameters\n",
    "\n",
    "N_initial = 10000  # Initial number of simulations to estimate sigma\n",
    "\n",
    "# Simulate stock paths\n",
    "timestamp = 252\n",
    "dt = T / timestamp  # daily steps\n",
    "S_paths = np.zeros((N_initial, timestamp))\n",
    "S_paths[:, 0] = S0\n",
    "for t in range(1, timestamp):\n",
    "    Z = np.random.normal(0, 1, N_initial)\n",
    "    S_paths[:, t] = S_paths[:, t - 1] * np.exp((r - 0.5 * sigma**2) * dt + sigma * np.sqrt(dt) * Z)\n",
    "\n",
    "# Determine the maximum stock price during the life of the option\n",
    "K_max = np.max(S_paths, axis=1)\n",
    "\n",
    "# Payoff of Lookback put for each simulation\n",
    "V_standard = np.exp(-r * T) * np.maximum(K_max - S_paths[:, -1], 0)\n",
    "P_standard = np.mean(V_standard)\n",
    "\n",
    "# Estimate standard deviation\n",
    "sigma_standard = np.std(V_standard)\n",
    "\n",
    "# Calculate required N for standard Monte Carlo\n",
    "desired_width = 0.01\n",
    "N_standard = (2 * 1.96 * sigma_standard / desired_width) ** 2\n",
    "\n",
    "Original_S_paths = np.zeros((N, timestamp))\n",
    "Antithetic_S_paths = np.zeros((N, timestamp))\n",
    "Original_S_paths[:, 0] = S0\n",
    "Antithetic_S_paths[:, 0] = S0\n",
    "for t in range(1, timestamp):\n",
    "    Z = np.random.normal(0, 1, N)\n",
    "    Original_S_paths[:, t] = Original_S_paths[:, t - 1] * np.exp((r - 0.5 * sigma**2) * dt + sigma * np.sqrt(dt) * Z)\n",
    "    Antithetic_S_paths[:, t] = Antithetic_S_paths[:, t - 1] * np.exp((r - 0.5 * sigma**2) * dt - sigma * np.sqrt(dt) * Z)\n",
    "\n",
    "\n",
    "\n",
    "original_max = np.max(Original_S_paths, axis=1)\n",
    "antithetic_max = np.max(Antithetic_S_paths, axis=1)\n",
    "V_avg = 0.5 * (original_max - Original_S_paths[:, -1]) + 0.5 * (antithetic_max - Antithetic_S_paths[:, -1])\n",
    "V_antithetic = np.exp(-r * T) * V_avg\n",
    "sigma_antithetic = np.std(V_antithetic)\n",
    "\n",
    "# Calculate required N for Monte Carlo with Antithetic Variables\n",
    "N_antithetic = (2 * 1.96 * sigma_antithetic / desired_width) ** 2\n",
    "\n",
    "# Price of Lookback put\n",
    "P_antithetic = V_antithetic.mean()\n",
    "    \n",
    "# Display results\n",
    "print(f\"Estimated Lookback put price with standard Monte Carlo: {P_standard}\")\n",
    "print(f\"Estimated standard deviation for Lookback put: {sigma_standard}\")\n",
    "print(f\"Number of simulations needed for standard Monte Carlo: {int(np.ceil(N_standard))}\")\n",
    "print(f\"Estimated Lookback put price with Antithetic Variables: {P_antithetic}\")\n",
    "print(f\"Estimated standard deviation for Lookback put using Antithetic Variables: {sigma_antithetic}\")\n",
    "print(f\"Number of simulations needed for Monte Carlo with Antithetic Variables: {int(np.ceil(N_antithetic)):.0f}\")"
   ]
  },
  {
   "cell_type": "code",
   "execution_count": 20,
   "metadata": {},
   "outputs": [
    {
     "data": {
      "text/plain": [
       "array([[ 1.        , -0.67527264],\n",
       "       [-0.67527264,  1.        ]])"
      ]
     },
     "execution_count": 20,
     "metadata": {},
     "output_type": "execute_result"
    }
   ],
   "source": [
    "V_original = original_max - Original_S_paths[:, -1]\n",
    "V_antithetic = antithetic_max - Antithetic_S_paths[:, -1]\n",
    "\n",
    "np.corrcoef(V_original, V_antithetic)"
   ]
  },
  {
   "cell_type": "markdown",
   "metadata": {},
   "source": [
    "The formula for the lookback put option is:\n",
    "\n",
    "$$\n",
    "e^{-(T-t)r} \\mathbb{E}^* \\left[ M_0^T - S_T \\,|\\, \\mathcal{F}_t \\right] = \n",
    "$$\n",
    "$$\n",
    "M_0^t e^{-(T-t)r} \\Phi \\left( -\\delta_{T-t}^- \\left( \\frac{S_t}{M_0^t} \\right) \\right) \n",
    "+ S_t \\left( 1 + \\frac{\\sigma^2}{2r} \\right) \\Phi \\left( \\delta_{T-t}^+ \\left( \\frac{S_t}{M_0^t} \\right) \\right)\n",
    "- S_t e^{-(T-t)r} \\frac{\\sigma^2}{2r} \\left( \\frac{M_0^t}{S_t} \\right)^{\\frac{2r}{\\sigma^2}} \n",
    "\\Phi \\left( -\\delta_{T-t}^- \\left( \\frac{M_0^t}{S_t} \\right) \\right) - S_t\n",
    "$$"
   ]
  },
  {
   "cell_type": "code",
   "execution_count": 21,
   "metadata": {},
   "outputs": [
    {
     "name": "stdout",
     "output_type": "stream",
     "text": [
      "Lookback Put Option Price: 16.13\n",
      "Price of lookback put option using closed form solution is 16.13 and using numerical approximation is 15.45\n"
     ]
    }
   ],
   "source": [
    "##Sanity Check - Closed form solution for lookback put option \n",
    "\n",
    "import numpy as np\n",
    "from scipy.stats import norm\n",
    "\n",
    "def Phi(x):\n",
    "    return norm.cdf(x)\n",
    "\n",
    "# parameters\n",
    "S_t = 100      \n",
    "M_t0 = 100     \n",
    "r = 0.015     \n",
    "T = 1          \n",
    "sigma = 0.20   \n",
    "\n",
    "\n",
    "delta_plus = (np.log(S_t / M_t0) + (r + 0.5 * sigma**2) * T) / (sigma * np.sqrt(T))\n",
    "delta_minus = delta_plus - sigma * np.sqrt(T)\n",
    "\n",
    "\n",
    "term1 = M_t0 * np.exp(-r * T) * Phi(-delta_minus)\n",
    "term2 = S_t * (1 + sigma**2 / (2 * r)) * Phi(delta_plus)\n",
    "term3 = (\n",
    "    S_t\n",
    "    * np.exp(-r * T)\n",
    "    * (sigma**2 / (2 * r))\n",
    "    * ((M_t0 / S_t) ** (2 * r / sigma**2))\n",
    "    * Phi(-delta_minus)\n",
    ")\n",
    "term4 = S_t\n",
    "\n",
    "\n",
    "lookback_put_price = term1 + term2 - term3 - term4\n",
    "\n",
    "\n",
    "print(f\"Lookback Put Option Price: {lookback_put_price:.2f}\")\n",
    "print(f'Price of lookback put option using closed form solution is {lookback_put_price:.2f} and using numerical approximation is {P_lookback:.2f}')"
   ]
  },
  {
   "cell_type": "markdown",
   "metadata": {},
   "source": [
    "we can mention in the report that as time steps increase the price of the lookback given by numerical approximation will converge to the closed form solution"
   ]
  },
  {
   "cell_type": "markdown",
   "metadata": {},
   "source": []
  }
 ],
 "metadata": {
  "kernelspec": {
   "display_name": "base",
   "language": "python",
   "name": "python3"
  },
  "language_info": {
   "codemirror_mode": {
    "name": "ipython",
    "version": 3
   },
   "file_extension": ".py",
   "mimetype": "text/x-python",
   "name": "python",
   "nbconvert_exporter": "python",
   "pygments_lexer": "ipython3",
   "version": "3.12.4"
  }
 },
 "nbformat": 4,
 "nbformat_minor": 2
}
